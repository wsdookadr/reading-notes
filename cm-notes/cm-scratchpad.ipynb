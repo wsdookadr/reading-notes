{
 "cells": [
  {
   "cell_type": "markdown",
   "id": "c0b8d056",
   "metadata": {},
   "source": [
    "Notes or code snippets written while reading and solving problems from\n",
    "[Concrete Mathematics (2nd edition) by Knuth, Graham, Patashnik](https://www.amazon.com/dp/0201558025)\n",
    "\n",
    "\n"
   ]
  },
  {
   "cell_type": "markdown",
   "id": "48a8cc3e",
   "metadata": {},
   "source": [
    "## Chapter 1 - Recurrent Problems"
   ]
  },
  {
   "cell_type": "code",
   "execution_count": 68,
   "id": "688bc30c",
   "metadata": {},
   "outputs": [
    {
     "name": "stdout",
     "output_type": "stream",
     "text": [
      "====\n",
      "101101001\n",
      "011010010\n",
      "000000001\n",
      "011010011\n"
     ]
    },
    {
     "data": {
      "text/plain": [
       "211"
      ]
     },
     "execution_count": 68,
     "metadata": {},
     "output_type": "execute_result"
    }
   ],
   "source": [
    "\"\"\"\n",
    "Josephus Problem \n",
    "Implementation of the cyclic bit shift formula on p. 11\n",
    "\n",
    "Note: only for unsigned integers\n",
    "\"\"\"\n",
    "\n",
    "def LEN(n):\n",
    "    r = 0\n",
    "    while n:\n",
    "        n >>= 1\n",
    "        r += 1\n",
    "    return r\n",
    "\n",
    "def PR(n,w=4):\n",
    "    print(bin(n)[2:].zfill(w))\n",
    "\n",
    "def ROR(n, p, debug=False):\n",
    "    \"\"\"\n",
    "    will rotate n right by p bits and take into account n's length in bits.\n",
    "    ex1:\n",
    "    ROR(101101001,1)=\n",
    "        110110100\n",
    "    ex2:\n",
    "    ROR(101101001,3)=\n",
    "        001101101\n",
    "    \"\"\"\n",
    "    l = LEN(n)\n",
    "    L = n >> p\n",
    "    R = (n & (1 << p - 1)) << (l-p)\n",
    "    F = L | R\n",
    "    if debug:\n",
    "        PR(n,w=l)\n",
    "        PR(L,w=l)\n",
    "        PR(R,w=l)\n",
    "        PR(F,w=l)\n",
    "    return F\n",
    "\n",
    "def ROL(n, p, debug=False):\n",
    "    \"\"\"\n",
    "    same as ROR, but rotate to left\n",
    "    \"\"\"\n",
    "    l = LEN(n)\n",
    "    L = (n << p) & ( (1 << l) - 1)\n",
    "    R = n >> (l-p)\n",
    "    F = L | R\n",
    "    if debug:\n",
    "        PR(n,w=l)\n",
    "        PR(L,w=l)\n",
    "        PR(R,w=l)\n",
    "        PR(F,w=l)\n",
    "    return F\n",
    "\n",
    "n = int(\"101101001\", 2)\n",
    "print(\"====\")\n",
    "ROL(n,1,debug=True)\n",
    "n = int(\"11011101\", 2)\n",
    "\n",
    "print(1<<3)"
   ]
  },
  {
   "cell_type": "code",
   "execution_count": 3,
   "id": "d2b13529",
   "metadata": {},
   "outputs": [
    {
     "name": "stdout",
     "output_type": "stream",
     "text": [
      "moves=3\n"
     ]
    },
    {
     "data": {
      "image/svg+xml": [
       "<svg xmlns=\"http://www.w3.org/2000/svg\" xmlns:xlink=\"http://www.w3.org/1999/xlink\" width=\"200\" height=\"80\" viewBox=\"0 -80 200 80\">\n",
       "<defs>\n",
       "</defs>\n",
       "<path d=\"M22.0,0 L22.0,-80\" fill=\"black\" stroke=\"black\"/>\n",
       "<rect x=\"4.0\" y=\"-22\" width=\"36\" height=\"20\" fill=\"blue\"/>\n",
       "<rect x=\"13.0\" y=\"-44\" width=\"18\" height=\"20\" fill=\"red\"/>\n",
       "<path d=\"M66.0,0 L66.0,-80\" fill=\"black\" stroke=\"black\"/>\n",
       "<path d=\"M110.0,0 L110.0,-80\" fill=\"black\" stroke=\"black\"/>\n",
       "</svg>"
      ],
      "text/plain": [
       "<IPython.core.display.SVG object>"
      ]
     },
     "metadata": {},
     "output_type": "display_data"
    },
    {
     "data": {
      "image/svg+xml": [
       "<svg xmlns=\"http://www.w3.org/2000/svg\" xmlns:xlink=\"http://www.w3.org/1999/xlink\" width=\"200\" height=\"60\" viewBox=\"0 -60 200 60\">\n",
       "<defs>\n",
       "</defs>\n",
       "<path d=\"M22.0,0 L22.0,-60\" fill=\"black\" stroke=\"black\"/>\n",
       "<rect x=\"4.0\" y=\"-22\" width=\"36\" height=\"20\" fill=\"blue\"/>\n",
       "<path d=\"M66.0,0 L66.0,-60\" fill=\"black\" stroke=\"black\"/>\n",
       "<rect x=\"57.0\" y=\"-22\" width=\"18\" height=\"20\" fill=\"red\"/>\n",
       "<path d=\"M110.0,0 L110.0,-60\" fill=\"black\" stroke=\"black\"/>\n",
       "</svg>"
      ],
      "text/plain": [
       "<IPython.core.display.SVG object>"
      ]
     },
     "metadata": {},
     "output_type": "display_data"
    },
    {
     "data": {
      "image/svg+xml": [
       "<svg xmlns=\"http://www.w3.org/2000/svg\" xmlns:xlink=\"http://www.w3.org/1999/xlink\" width=\"200\" height=\"60\" viewBox=\"0 -60 200 60\">\n",
       "<defs>\n",
       "</defs>\n",
       "<path d=\"M22.0,0 L22.0,-60\" fill=\"black\" stroke=\"black\"/>\n",
       "<path d=\"M66.0,0 L66.0,-60\" fill=\"black\" stroke=\"black\"/>\n",
       "<rect x=\"57.0\" y=\"-22\" width=\"18\" height=\"20\" fill=\"red\"/>\n",
       "<path d=\"M110.0,0 L110.0,-60\" fill=\"black\" stroke=\"black\"/>\n",
       "<rect x=\"92.0\" y=\"-22\" width=\"36\" height=\"20\" fill=\"blue\"/>\n",
       "</svg>"
      ],
      "text/plain": [
       "<IPython.core.display.SVG object>"
      ]
     },
     "metadata": {},
     "output_type": "display_data"
    },
    {
     "data": {
      "image/svg+xml": [
       "<svg xmlns=\"http://www.w3.org/2000/svg\" xmlns:xlink=\"http://www.w3.org/1999/xlink\" width=\"200\" height=\"80\" viewBox=\"0 -80 200 80\">\n",
       "<defs>\n",
       "</defs>\n",
       "<path d=\"M22.0,0 L22.0,-80\" fill=\"black\" stroke=\"black\"/>\n",
       "<path d=\"M66.0,0 L66.0,-80\" fill=\"black\" stroke=\"black\"/>\n",
       "<path d=\"M110.0,0 L110.0,-80\" fill=\"black\" stroke=\"black\"/>\n",
       "<rect x=\"92.0\" y=\"-22\" width=\"36\" height=\"20\" fill=\"blue\"/>\n",
       "<rect x=\"101.0\" y=\"-44\" width=\"18\" height=\"20\" fill=\"red\"/>\n",
       "</svg>"
      ],
      "text/plain": [
       "<IPython.core.display.SVG object>"
      ]
     },
     "metadata": {},
     "output_type": "display_data"
    }
   ],
   "source": [
    "from IPython.display import SVG, display\n",
    "import drawSvg as draw\n",
    "import itertools\n",
    "# 14 colors\n",
    "cmap=[\"red\",\"blue\",\"purple\",\"green\",\"aqua\",\"blueviolet\",\"brown\",\"forestgreen\",\"burlywood\",\"chartreuse\",\"cornflowerblue\",\"darkcyan\",\"darkgoldenrod\",\"darkmagenta\",\"orange\"]\n",
    "\n",
    "def drawHanoi(A,B,C):\n",
    "    # peg height\n",
    "    pegH = 60\n",
    "    # peg X offset\n",
    "    pegO = max(A+B+C)*22\n",
    "    # ring height and width\n",
    "    rW,rH = 2*9,20\n",
    "    width = max(A+B+C) * 100\n",
    "    height = 40 + ( max(len(A),len(B),len(C)) * rH )\n",
    "    d = draw.Drawing(width, height,origin=(0,0))\n",
    "    # stacks\n",
    "    S=[A,B,C]\n",
    "    xPeg=pegO/2\n",
    "    for i in range(1,4):\n",
    "        # draw pegs\n",
    "        d.append(draw.Lines(xPeg,0,xPeg,height,close=False,fill='black',stroke='black'))\n",
    "        # draw stacks\n",
    "        y=2\n",
    "        for j in S[i-1]:\n",
    "            d.append(draw.Rectangle(xPeg-j*(rW/2),y,j*rW,rH, fill=cmap[j-1]))\n",
    "            y+=rH+2\n",
    "        xPeg += pegO\n",
    "    display(SVG(d.asSvg()))\n",
    "\n",
    "\n",
    "class Towers:\n",
    "    def __init__(self):\n",
    "        self.moves = []\n",
    "    # computes moves required to solve classic Hanoi\n",
    "    #\n",
    "    # summary:\n",
    "    # 1. move n-1 disks from A -> B\n",
    "    # 2. move the largest disk A -> C\n",
    "    # 3. move the n-1 disks on top of the largest\n",
    "    #\n",
    "    # H(n,A,B,C) means \"take n disks from A and move them to C using B\"\n",
    "    def H(self,n,A,B,C,debug=False):\n",
    "        if n == 0: return\n",
    "        self.H(n-1,A,C,B,debug=debug)\n",
    "        self.moves.append(A+C)\n",
    "        self.H(n-1,B,A,C,debug=debug)\n",
    "        \n",
    "    # simulation of problem 2 on page 17\n",
    "    # same as H but with AC,CA forbidden\n",
    "    def T(self,n,A,B,C,debug=False):\n",
    "        if n == 0: return\n",
    "        self.T(n-1,A,B,C,debug=debug)\n",
    "        self.moves.append(A+B)\n",
    "        self.T(n-1,C,B,A,debug=debug)\n",
    "        self.moves.append(B+C)\n",
    "        self.T(n-1,A,B,C,debug=debug)\n",
    "\n",
    "    def draw(self,n,which=\"H\"):\n",
    "        if which==\"H\":\n",
    "            self.H(n,*'ABC',debug=True)\n",
    "        elif which==\"T\":\n",
    "            self.T(n,*'ABC',debug=True)\n",
    "        print(f\"moves={len(self.moves)}\")\n",
    "        # stacks\n",
    "        S=[list(reversed(range(1,n+1))),[],[] ]\n",
    "        drawHanoi(S[0],S[1],S[2])\n",
    "        for m in self.moves:\n",
    "            a,b=(ord(m[0])-ord('A'),ord(m[1])-ord('A'))\n",
    "            # perform the actual move\n",
    "            S[b].append(S[a].pop())\n",
    "            drawHanoi(S[0],S[1],S[2])\n",
    "t = Towers()\n",
    "t.draw(2,which=\"H\")"
   ]
  },
  {
   "cell_type": "code",
   "execution_count": 160,
   "id": "ae187eaf",
   "metadata": {},
   "outputs": [
    {
     "data": {
      "text/latex": [
       "$\\displaystyle \\alpha$"
      ],
      "text/plain": [
       "\\alpha"
      ]
     },
     "metadata": {},
     "output_type": "display_data"
    },
    {
     "data": {
      "text/latex": [
       "$\\displaystyle \\beta$"
      ],
      "text/plain": [
       "\\beta"
      ]
     },
     "metadata": {},
     "output_type": "display_data"
    },
    {
     "data": {
      "text/latex": [
       "$\\displaystyle \\frac{\\beta + 1}{\\alpha}$"
      ],
      "text/plain": [
       "(\\beta + 1)/\\alpha"
      ]
     },
     "metadata": {},
     "output_type": "display_data"
    },
    {
     "data": {
      "text/latex": [
       "$\\displaystyle \\frac{\\alpha + \\beta + 1}{\\alpha \\beta}$"
      ],
      "text/plain": [
       "(\\alpha + \\beta + 1)/(\\alpha*\\beta)"
      ]
     },
     "metadata": {},
     "output_type": "display_data"
    },
    {
     "data": {
      "text/latex": [
       "$\\displaystyle \\frac{\\alpha + 1}{\\beta}$"
      ],
      "text/plain": [
       "(\\alpha + 1)/\\beta"
      ]
     },
     "metadata": {},
     "output_type": "display_data"
    },
    {
     "data": {
      "text/latex": [
       "$\\displaystyle \\alpha$"
      ],
      "text/plain": [
       "\\alpha"
      ]
     },
     "metadata": {},
     "output_type": "display_data"
    },
    {
     "data": {
      "text/latex": [
       "$\\displaystyle \\beta$"
      ],
      "text/plain": [
       "\\beta"
      ]
     },
     "metadata": {},
     "output_type": "display_data"
    },
    {
     "data": {
      "text/latex": [
       "$\\displaystyle \\frac{\\beta + 1}{\\alpha}$"
      ],
      "text/plain": [
       "(\\beta + 1)/\\alpha"
      ]
     },
     "metadata": {},
     "output_type": "display_data"
    },
    {
     "data": {
      "text/latex": [
       "$\\displaystyle \\frac{\\alpha + \\beta + 1}{\\alpha \\beta}$"
      ],
      "text/plain": [
       "(\\alpha + \\beta + 1)/(\\alpha*\\beta)"
      ]
     },
     "metadata": {},
     "output_type": "display_data"
    },
    {
     "data": {
      "text/latex": [
       "$\\displaystyle \\frac{\\alpha + 1}{\\beta}$"
      ],
      "text/plain": [
       "(\\alpha + 1)/\\beta"
      ]
     },
     "metadata": {},
     "output_type": "display_data"
    }
   ],
   "source": [
    "# problem 7 page 18\n",
    "from sympy import *\n",
    "a,b = symbols('\\\\alpha \\\\beta')\n",
    "def Q(n):\n",
    "    if n == 0: return a\n",
    "    if n == 1: return b\n",
    "    if n  > 1: return (1+Q(n-1))/Q(n-2)\n",
    "\n",
    "for i in range(10):\n",
    "    display(simplify(Q(i)))\n",
    "\n",
    "# the sequence is periodic, of period 5"
   ]
  },
  {
   "cell_type": "code",
   "execution_count": null,
   "id": "86753b3d",
   "metadata": {},
   "outputs": [],
   "source": [
    "# problem 13, page 19 CM\n",
    "\n",
    "\"\"\"\n",
    "polynomials that Joel mentioned in relation to prob 1.13\n",
    "p(X) = (#2d) + (#1d)X + (#0d)X^2\n",
    "\n",
    "where #2d is the number of 2d regions, #1d is the number of lines\n",
    "and #0d is the number of points.\n",
    "\n",
    "one transformation was mentioned X -> 2+3*X\n",
    "\"\"\"\n",
    "\n",
    "from sympy import *\n",
    "x = symbols('x')\n",
    "L = [1,2+x,4+4*x+1*x**2,7+9*x+3*x**2]\n",
    "for p in L:\n",
    "    if isinstance(p,int):\n",
    "        print(p)\n",
    "    else:\n",
    "        display(expand(p.subs(x,2+3*x)))"
   ]
  },
  {
   "cell_type": "code",
   "execution_count": 187,
   "id": "f14ecfff",
   "metadata": {},
   "outputs": [
    {
     "data": {
      "text/latex": [
       "$\\displaystyle \\frac{n \\left(n - 1\\right)}{2}$"
      ],
      "text/plain": [
       "n*(n - 1)/2"
      ]
     },
     "metadata": {},
     "output_type": "display_data"
    },
    {
     "data": {
      "text/latex": [
       "$\\displaystyle \\frac{n \\left(n - 1\\right) \\left(2 n - 1\\right)}{12} + \\frac{n \\left(n - 1\\right)}{4} + n + 1$"
      ],
      "text/plain": [
       "n*(n - 1)*(2*n - 1)/12 + n*(n - 1)/4 + n + 1"
      ]
     },
     "metadata": {},
     "output_type": "display_data"
    },
    {
     "data": {
      "text/latex": [
       "$\\displaystyle \\frac{n^{3}}{6} + \\frac{5 n}{6} + 1$"
      ],
      "text/plain": [
       "n**3/6 + 5*n/6 + 1"
      ]
     },
     "metadata": {},
     "output_type": "display_data"
    },
    {
     "data": {
      "text/latex": [
       "$\\displaystyle \\frac{n^{3} + 5 n + 6}{6}$"
      ],
      "text/plain": [
       "(n**3 + 5*n + 6)/6"
      ]
     },
     "metadata": {},
     "output_type": "display_data"
    },
    {
     "name": "stdout",
     "output_type": "stream",
     "text": [
      "0 1\n",
      "1 2\n",
      "2 4\n",
      "3 8\n",
      "4 15\n",
      "5 26\n",
      "6 42\n"
     ]
    }
   ],
   "source": [
    "# problem 14, page 19 Concrete Mathematics\n",
    "from sympy import *\n",
    "n = symbols('n',integer=True)\n",
    "s1 = n*(n+1)/2\n",
    "s2 = n*(n+1)*(2*n+1)/6\n",
    "s1 = s1.subs(n,n-1)\n",
    "s2 = s2.subs(n,n-1)\n",
    "P = Rational(1,2) * (s1+s2) + n+1\n",
    "display(a)\n",
    "display(P)\n",
    "P = P.expand()\n",
    "display(P)\n",
    "display(together(P))\n",
    "for k in range(0,7):\n",
    "    print(k,P.subs(n,k))\n"
   ]
  },
  {
   "cell_type": "code",
   "execution_count": 185,
   "id": "a6ca5617",
   "metadata": {},
   "outputs": [
    {
     "name": "stdout",
     "output_type": "stream",
     "text": [
      "1 2 2\n",
      "2 4 4\n",
      "3 7 8\n",
      "4 11 15\n",
      "5 16 26\n",
      "6 22 42\n",
      "7 29 64\n",
      "8 37 93\n"
     ]
    }
   ],
   "source": [
    "# recursive implementation of the solution in CM \n",
    "P=1\n",
    "\n",
    "def L(n):\n",
    "    return int(n*(n+1)/2)+1\n",
    "\n",
    "def P(n):\n",
    "    if n == 0: return 1\n",
    "    else: return P(n-1)+L(n-1)\n",
    "\n",
    "for n in range(1,9):\n",
    "    print(n,L(n),P(n))\n"
   ]
  },
  {
   "cell_type": "markdown",
   "id": "1262738c",
   "metadata": {},
   "source": [
    "[Reference Link](http://www.gweep.net/~sskoog/block_of_cheese_problem.txt) (related to $P_n$ , the number of regions in 3D after $n$ slices).\n",
    "\n",
    "For the 2D version, $L_n$ is also called the [Lazy caterer's sequence](https://en.wikipedia.org/wiki/Lazy_caterer%27s_sequence). \n",
    "\n",
    "(found out it has a name after talking on discord about it)"
   ]
  },
  {
   "cell_type": "code",
   "execution_count": 7,
   "id": "27b996c1",
   "metadata": {},
   "outputs": [
    {
     "name": "stdout",
     "output_type": "stream",
     "text": [
      "[1, 0, 0, 0]\n",
      "[3, 2, 1, 0]\n",
      "[3, 3, 0, 1]\n",
      "[9, 10, 4, 0]\n",
      "[9, 11, 3, 1]\n",
      "[9, 15, 1, 3]\n",
      "[9, 16, 0, 4]\n",
      "[27, 38, 13, 0]\n",
      "[27, 39, 12, 1]\n"
     ]
    }
   ],
   "source": [
    "# problem 1.16 , recurrence implementation\n",
    "\n",
    "from sympy import *\n",
    "a,y,b0,b1 = symbols('\\\\alpha \\\\gamma \\\\beta_0 \\\\beta_1')\n",
    "def g(n):\n",
    "    if n == 1:\n",
    "        return a\n",
    "    elif n % 2 == 0:\n",
    "        n1 = int(n/2)\n",
    "        return 3*g(n1) + y*n + b0\n",
    "    else:\n",
    "        n1 = int((n-1)/2)\n",
    "        return 3*g(n1) + y*n + b1\n",
    "\n",
    "    \n",
    "N = 10\n",
    "for n in range(1,N):\n",
    "    gn = g(n)\n",
    "    c = list(map(lambda _: gn.coeff(_), [a,y,b0,b1]))\n",
    "    #display(gn)\n",
    "    print(c)\n",
    "    \n",
    "\n",
    "#for n in range(1,N):\n",
    "#    gn = g(n)\n",
    "#    display(gn)\n",
    "    "
   ]
  },
  {
   "cell_type": "markdown",
   "id": "ca148f3a",
   "metadata": {},
   "source": [
    "The initial recurrence is:\n",
    "\n",
    "$$\n",
    "g(1)=\\alpha \\\\\n",
    "g(2n+j)=3\\cdot g(n) + \\gamma n + \\beta_j , j=0,1 \\text{ and } n \\geq 1 \\\\\n",
    "$$\n",
    "\n",
    "We write the general solution $ g(n) = A(n)\\alpha + B(n)\\gamma + C(n)\\beta_0 + D(n)\\beta_1$\n",
    "\n",
    "If we do this, we get the following recurrences:\n",
    "\n",
    "$$\n",
    "\\begin{array}{lll}\n",
    "A(1)=1;B(1)=C(1)=D(1)=0\\\\\n",
    "A(2n)&=&3\\cdot A(n) \\\\\n",
    "A(2n+1)&=&3\\cdot A(n) \\\\\n",
    "B(2n)&=&3\\cdot B(n)+n \\\\\n",
    "B(2n+1)&=&3\\cdot B(n)+n \\\\\n",
    "C(2n)&=&3\\cdot C(n)+1 \\\\\n",
    "C(2n+1)&=&3\\cdot C(n) \\\\\n",
    "D(2n)&=&3\\cdot D(n) \\\\\n",
    "D(2n+1)&=&3\\cdot D(n)+1 \\\\\n",
    "\\end{array}\n",
    "$$\n",
    "\n",
    "Suppose we write n in binary and also the prefix $p_j$ :\n",
    "\n",
    "$$ n=\\Delta_0 \\cdots \\Delta_t $$\n",
    "\n",
    "$$ p_j = \\Delta_0 \\cdots \\Delta_j , j \\leq t $$\n",
    "\n",
    "The closed-forms should be the following:\n",
    "\n",
    "$$\n",
    "\\begin{array}{lll}\n",
    "A(\\Delta_0 \\cdots \\Delta_t) & = & 3^t \\\\\n",
    "B(\\Delta_0 \\cdots \\Delta_t) & = & \\sum_{k=0}^{t-1} 3^k \\cdot p_k \\\\\n",
    "C(\\Delta_0 \\cdots \\Delta_t) & = & \\sum_{k=0}^{t-1} 3^k \\cdot \\neg \\Delta_{k} \\\\\n",
    "D(\\Delta_0 \\cdots \\Delta_t) & = & \\sum_{k=0}^{t-1} 3^k \\cdot \\Delta_{k} \\\\\n",
    "\\end{array}\n",
    "$$\n",
    "\n",
    "___\n",
    "\n",
    "Note: Talked with Joel about the fact that if $n$ gets replaced with $n^2$ (the last term) in $B(n)$ then $p_k$ will be replaced with $p_k^2$ and in general if a transformation is applied to that $n$ then it should also be applied to $p_k$.  \n",
    "\n",
    "___\n",
    "\n",
    "\n",
    "\n",
    "If $n=\\Delta_0 \\cdots \\Delta_t$ then $t=\\lfloor{\\log_2{n}\\rfloor}$\n",
    "\n",
    "\n",
    "\n",
    "\n",
    "\n"
   ]
  },
  {
   "cell_type": "markdown",
   "id": "bd5915b2",
   "metadata": {},
   "source": [
    "$\\large$\n",
    "\n",
    "The following is a proof by induction for the closed-form of $B(n)$.\n",
    "\n",
    "The claim is that $B(2^n)=\\sum_{k=0}^{n-1} 3^k \\cdot 2^{(n-1)-k}$\n",
    "\n",
    "Proof: \n",
    "\n",
    "Base case:\n",
    "\n",
    "$\n",
    "B(2^1) = 3B(2^0) + 2^0 = 3\\cdot 0 + 2^0 = 1 \\\\\n",
    "B(2^2) = \\sum_{k=0}^{1} 3^k \\cdot 2^{2-1-k} = 2^1 + 3^1 = 5 \\\\ \n",
    "$\n",
    "\n",
    "Inductive step:\n",
    "\n",
    "$\n",
    "B(2^{n+1}) = 3\\cdot B(2^n) + 2^n = 3\\cdot \\sum_{k=0}^{n-1} 3^k \\cdot 2^{n-1-k} + 2^n = \\sum_{k=0}^{n-1} 3^{k+1} \\cdot 2^{n-1-k} + 2^n = \\\\\n",
    "\\sum_{k=1}^{n} 3^k \\cdot 2^{n-1-(k+1)} + 2^n = \\sum_{k=0}^n 3^k \\cdot 2^{n-k} \\blacksquare \\\\\n",
    "$\n",
    "\n",
    "So far, this is the Forward step $P(2^n) \\to P(2^{n+1})$ of a [Forward-Backward induction](https://en.wikipedia.org/wiki/Mathematical_induction#Forward-backward_induction) proof.\n",
    "\n",
    "The remaining (backward) part is a proof for $P(n)\\to P(n-1)$."
   ]
  },
  {
   "cell_type": "code",
   "execution_count": 239,
   "id": "59b3bd19",
   "metadata": {},
   "outputs": [
    {
     "name": "stdout",
     "output_type": "stream",
     "text": [
      "1 1 0 0 0\n",
      "2 3 2 1 0\n",
      "3 3 3 0 1\n",
      "4 9 10 4 0\n",
      "5 9 11 3 1\n",
      "6 9 15 1 3\n",
      "7 9 16 0 4\n",
      "8 27 38 13 0\n",
      "9 27 39 12 1\n",
      "10 27 43 10 3\n",
      "11 27 44 9 4\n",
      "12 27 57 4 9\n",
      "13 27 58 3 10\n",
      "14 27 62 1 12\n"
     ]
    }
   ],
   "source": [
    "def A(n):\n",
    "    t = floor(log(n)/log(2))\n",
    "    return 3**t\n",
    "\n",
    "def B(n):\n",
    "    if n == 1: return 0\n",
    "    t = floor(log(n)/log(2))\n",
    "    r = 0\n",
    "    for k in range(0,t):\n",
    "        r += 3**k * (n>>k)\n",
    "    return r\n",
    "\n",
    "def C(n):\n",
    "    if n == 1: return 0\n",
    "    t = floor(log(n)/log(2))\n",
    "    r = 0\n",
    "    for k in range(0,t):\n",
    "        r += 3**k * ((~(n>>k)) & 1)\n",
    "    return r\n",
    "\n",
    "def D(n):\n",
    "    if n == 1: return 0\n",
    "    t = floor(log(n)/log(2))\n",
    "    r = 0\n",
    "    for k in range(0,t):\n",
    "        r += 3**k * ((n>>k) & 1)\n",
    "    return r\n",
    "\n",
    "# g(n) closed form\n",
    "def g_cf(n):\n",
    "    if n == 1: return a\n",
    "    t = floor(log(n)/log(2))\n",
    "    r = a * (3**t)\n",
    "    Bn,Cn,Dn=0,0,0\n",
    "    for k in range(0,t):\n",
    "        Bn += 3**k * (n>>k)\n",
    "        Cn += 3**k * ( (~(n>>k)) & 1 )\n",
    "        Dn += 3**k * ( (n>>k)    & 1 )\n",
    "    r += Bn * y + Cn * b0 + Dn * b1\n",
    "    return r\n",
    "\n",
    "for n in range(1,15):\n",
    "    #gn = a*A(n)+y*B(n)+b0*C(n)+b1*D(n)\n",
    "    #display(gn)\n",
    "    print(n,A(n),B(n),C(n),D(n))\n",
    "    # display(g_cf(n))\n"
   ]
  },
  {
   "cell_type": "code",
   "execution_count": 271,
   "id": "8ef2e7cd",
   "metadata": {},
   "outputs": [
    {
     "name": "stdout",
     "output_type": "stream",
     "text": [
      "1 2 1\n",
      "2 10 2\n",
      "3 38 22\n",
      "4 130 134\n"
     ]
    }
   ],
   "source": [
    "def B2(n):\n",
    "    r = 0\n",
    "    for k in range(1,n-1):\n",
    "        r += 3**k * 2**k\n",
    "    r *= 3\n",
    "    r += 2**(n-1)\n",
    "    return r\n",
    "\n",
    "for n in range(1,5):\n",
    "    print(n,B(2**n),B2(n))\n"
   ]
  },
  {
   "cell_type": "code",
   "execution_count": 285,
   "id": "7cd13ae4",
   "metadata": {},
   "outputs": [
    {
     "name": "stdout",
     "output_type": "stream",
     "text": [
      "1 2 2\n",
      "2 10 10\n",
      "3 38 38\n",
      "4 130 130\n",
      "5 422 422\n",
      "6 1330 1330\n",
      "7 4118 4118\n",
      "8 12610 12610\n",
      "9 38342 38342\n",
      "10 116050 116050\n",
      "11 350198 350198\n",
      "12 1054690 1054690\n",
      "13 3172262 3172262\n",
      "14 9533170 9533170\n"
     ]
    }
   ],
   "source": [
    "from sympy import *\n",
    "\n",
    "# compute B3(n) = B(2^n)\n",
    "def B3(n):\n",
    "    return sum(map(lambda k: (3**k) * 2**(n-k), range(n)))\n",
    "\n",
    "for n in range(1,15):\n",
    "    print(n,B(2**n),B3(n))"
   ]
  },
  {
   "attachments": {
    "knuth-cm-interpretation-1.17-2.svg": {
     "image/svg+xml": [
      "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"
     ]
    }
   },
   "cell_type": "markdown",
   "id": "b0c6ab7a",
   "metadata": {},
   "source": [
    "Problem 1.17\n",
    "\n",
    "$\n",
    "\\large\n",
    "\\begin{array}{lll}\n",
    "W_{\\frac{n(n+1)}{2}} & \\leq & 2 \\cdot W_{\\frac{n(n-1)}{2}} + T_n \\\\\n",
    "W_{\\frac{n(n-1)}{2} + n} & \\leq & 2 \\cdot W_{\\frac{n(n-1)}{2}} + T_n \\\\\n",
    "\\end{array}\n",
    "$\n",
    "\n",
    "Interpretation:\n",
    "![knuth-cm-interpretation-1.17-2.svg](attachment:knuth-cm-interpretation-1.17-2.svg)"
   ]
  },
  {
   "cell_type": "code",
   "execution_count": 252,
   "id": "32023119",
   "metadata": {},
   "outputs": [
    {
     "name": "stdout",
     "output_type": "stream",
     "text": [
      "5.96296296296296 6.00000000000000 9.00000000000000\n",
      "71.9629629629630 72.0000000000000 81.0000000000000\n",
      "701.962962962963 702.000000000000 729.000000000000\n"
     ]
    }
   ],
   "source": [
    "# problem 1.18 page 19\n",
    "from sympy import *\n",
    "\n",
    "n = 3\n",
    "for j in range(1,n+1):\n",
    "    n1 = n**(2*j) - n**j - Pow(n,-n)\n",
    "    n2 = n**(2*j) - n**j\n",
    "    n3 = n**(2*j)\n",
    "    print(N(n1),N(n2),N(n3)) "
   ]
  },
  {
   "attachments": {
    "problem-1.18-diagram2.svg": {
     "image/svg+xml": [
      "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"
     ]
    }
   },
   "cell_type": "markdown",
   "id": "6864d274",
   "metadata": {},
   "source": [
    "![problem-1.18-diagram2.svg](attachment:problem-1.18-diagram2.svg)"
   ]
  },
  {
   "cell_type": "markdown",
   "id": "940b87ec",
   "metadata": {},
   "source": [
    "The coordinates are too large to draw the exact position of the points/lines.\n",
    "\n",
    "Instead, I'm adding this drawing in Geogebra, which is a diagram of what should happen (probably a skewed version of the actual drawing).\n",
    "\n",
    "Proof plan:\n",
    "\n",
    "1. Prove that any new lines added intersect all other previous lines.\n",
    "2. Prove that any intersection points belong to exactly two lines.\n",
    "\n"
   ]
  },
  {
   "attachments": {
    "line-coordinates.svg": {
     "image/svg+xml": [
      "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"
     ]
    }
   },
   "cell_type": "markdown",
   "id": "f023bc68",
   "metadata": {},
   "source": [
    "![line-coordinates.svg](attachment:line-coordinates.svg)\n",
    "\n"
   ]
  },
  {
   "cell_type": "markdown",
   "id": "bb7fea1a",
   "metadata": {},
   "source": [
    "General line equation:\n",
    "\n",
    "$$\n",
    "y-y_1 = \\frac{y_2-y_1}{x_2-x_1}(x-x_1)\n",
    "$$\n",
    "\n",
    "Line equation for $A_j$ ($F_2D_2$ in the image) : \n",
    "\n",
    "$$\n",
    "y-0 = \\frac{1-0}{n^{2j}-n^j-n^{2j}}(x-n^{2j}) \\\\\n",
    "A_j : y = -\\frac{1}{n^j} ( x-n^{2j}) \\\\\n",
    "$$\n",
    "\n",
    "Line equation for $B_j$ ($E_2D_2$ in the image) :\n",
    "\n",
    "$$\n",
    "y-0 = \\frac{1-0}{n^{2j}-n^j-n^{-n} - n^{2j}}(x-n^{2j}) \\\\\n",
    "B_j : y = -\\frac{1}{n^j+n^{-n}}(x-n^{2j})\\\\\n",
    "$$\n",
    "\n",
    "The lines $A_i,A_j$ intersect at:\n",
    "\n",
    "$$\n",
    "x = \\frac{n^{2j+i}-n^{2i+j}}{n^i-n^j} = -n^{i+j}\n",
    "$$\n",
    "\n",
    "All other intersections are computed below:"
   ]
  },
  {
   "cell_type": "code",
   "execution_count": 358,
   "id": "b902e392",
   "metadata": {},
   "outputs": [
    {
     "data": {
      "text/latex": [
       "$\\displaystyle \\operatorname{Point2D}\\left(- n^{i + j}, - n^{- i} \\left(- n^{2 i} - n^{i + j}\\right)\\right)$"
      ],
      "text/plain": [
       "Point2D(-n**(i + j), -(-n**(2*i) - n**(i + j))/n**i)"
      ]
     },
     "metadata": {},
     "output_type": "display_data"
    },
    {
     "data": {
      "text/latex": [
       "$\\displaystyle \\operatorname{Point2D}\\left(n^{- n} \\left(- n^{i} - n^{j} - n^{i + j + n}\\right), - \\frac{- n^{2 i} + n^{- n} \\left(- n^{i} - n^{j} - n^{i + j + n}\\right)}{n^{i} + n^{- n}}\\right)$"
      ],
      "text/plain": [
       "Point2D((-n**i - n**j - n**(i + j + n))/n**n, -(-n**(2*i) + (-n**i - n**j - n**(i + j + n))/n**n)/(n**i + n**(-n)))"
      ]
     },
     "metadata": {},
     "output_type": "display_data"
    },
    {
     "data": {
      "text/latex": [
       "$\\displaystyle \\operatorname{Point2D}\\left(\\frac{n^{2 i} - n^{i + 2 j + n} + n^{2 i + j + n}}{- n^{i + n} + n^{j + n} + 1}, - n^{- i} \\left(- n^{2 i} + \\frac{n^{2 i} - n^{i + 2 j + n} + n^{2 i + j + n}}{- n^{i + n} + n^{j + n} + 1}\\right)\\right)$"
      ],
      "text/plain": [
       "Point2D((n**(2*i) - n**(i + 2*j + n) + n**(2*i + j + n))/(-n**(i + n) + n**(j + n) + 1), -(-n**(2*i) + (n**(2*i) - n**(i + 2*j + n) + n**(2*i + j + n))/(-n**(i + n) + n**(j + n) + 1))/n**i)"
      ]
     },
     "metadata": {},
     "output_type": "display_data"
    }
   ],
   "source": [
    "from sympy import *\n",
    "from sympy import Point\n",
    "\n",
    "i,j,n,x=symbols('i j n x',integer=True)\n",
    "\n",
    "def LA(j):\n",
    "    return -1/n**j * (x-n**(2*j))\n",
    "\n",
    "def LB(j):\n",
    "    return -1/(n**j+n**(-n)) * (x-n**(2*j))\n",
    "\n",
    "\n",
    "# identity or simplify\n",
    "def F(u):\n",
    "    return u\n",
    "\n",
    "\n",
    "# A_i n A_j\n",
    "xAA = solve(Eq(LA(i),LA(j)),[x])[0]\n",
    "yAA = LA(i).subs(x,xAA)\n",
    "pAA=Point(F(xAA),F(yAA))\n",
    "\n",
    "# B_i n B_j\n",
    "xBB = solve(Eq(LB(i),LB(j)),[x])[0]\n",
    "yBB = LB(i).subs(x,xBB)\n",
    "pBB=Point(F(xBB),F(yBB))\n",
    "\n",
    "# A_i n B_j\n",
    "xAB = solve(Eq(LA(i),LB(j)),[x])[0]\n",
    "yAB = LA(i).subs(x,xAB)\n",
    "pAB=Point(F(xAB),F(yAB))\n",
    "\n",
    "display( pAA )\n",
    "display( pBB )\n",
    "display( pAB )"
   ]
  },
  {
   "cell_type": "code",
   "execution_count": 313,
   "id": "ec9fba2e",
   "metadata": {},
   "outputs": [],
   "source": [
    "# Note: for the above the x's existing are enough to prove all lines intersect.\n",
    "# It's just the denominators that need to be nonzero.\n",
    "#\n",
    "# To prove that the intersections are shared by exactly two lines,\n",
    "# I'd have to prove that the intersection point does not belong to a 3rd line k."
   ]
  },
  {
   "cell_type": "code",
   "execution_count": 354,
   "id": "479cef33",
   "metadata": {},
   "outputs": [
    {
     "data": {
      "text/plain": [
       "[i, j]"
      ]
     },
     "metadata": {},
     "output_type": "display_data"
    },
    {
     "data": {
      "text/plain": [
       "[log((-sqrt(-(4*n**i + 4*n**j + 4*n**(i + j + n) - exp((2*i + n)*log(n)) - exp((2*j + n)*log(n)) - 2*exp((i + j + n)*log(n)))*exp(n*log(n))) + (exp(i*log(n)) + exp(j*log(n)))*exp(n*log(n)))*exp(-n*log(n))/2)/log(n),\n",
       " log((sqrt(-(4*n**i + 4*n**j + 4*n**(i + j + n) - exp((2*i + n)*log(n)) - exp((2*j + n)*log(n)) - 2*exp((i + j + n)*log(n)))*exp(n*log(n))) + (exp(i*log(n)) + exp(j*log(n)))*exp(n*log(n)))*exp(-n*log(n))/2)/log(n)]"
      ]
     },
     "metadata": {},
     "output_type": "display_data"
    },
    {
     "data": {
      "text/plain": [
       "[(log((-n**n*(n**i - n**j)*(n**i + n**j) + sqrt(n**(4*i + 2*n) + n**(4*j + 2*n) - 2*n**(2*i + 2*j + 2*n) + 4*exp(2*i*log(n)) - 4*exp((3*i + n)*log(n)) + 8*exp(2*(i + j + n)*log(n)) - 4*exp((i + 2*j + n)*log(n)) - 4*exp((i + 3*j + 2*n)*log(n)) + 8*exp((2*i + j + n)*log(n)) - 4*exp((3*i + j + 2*n)*log(n))))/(-exp((i + n)*log(n)) + exp((j + n)*log(n)) + 1)) - log(2))/log(n),\n",
       " (log((-n**(2*i + n) + n**(2*j + n) - sqrt(n**(4*i + 2*n) + n**(4*j + 2*n) - 2*n**(2*i + 2*j + 2*n) + 4*exp(2*i*log(n)) - 4*exp((3*i + n)*log(n)) + 8*exp(2*(i + j + n)*log(n)) - 4*exp((i + 2*j + n)*log(n)) - 4*exp((i + 3*j + 2*n)*log(n)) + 8*exp((2*i + j + n)*log(n)) - 4*exp((3*i + j + 2*n)*log(n))))/(-exp((i + n)*log(n)) + exp((j + n)*log(n)) + 1)) - log(2))/log(n)]"
      ]
     },
     "metadata": {},
     "output_type": "display_data"
    }
   ],
   "source": [
    "# If there are 3 lines L_i,L_j,L_k (with 1 <= i \\neq j \\neq k <= n)\n",
    "# and if L_i n L_j = P then P \\notin L_k.\n",
    "# (hopefully can be proved via contradiction)\n",
    "k = symbols('k',integer=True)\n",
    "px = []\n",
    "py = []\n",
    "for xP,yP in [[xAA,yAA],[xBB,yBB],[xAB,yAB]]:\n",
    "    y1 = LA(k).subs(x,xP)\n",
    "    eq = Eq(yP,y1)\n",
    "    display(solve(eq,[k]))\n"
   ]
  },
  {
   "cell_type": "markdown",
   "id": "8bf18d9f",
   "metadata": {},
   "source": [
    "SymPy doesn't know how to simplify these.\n",
    "\n",
    "Only the first pair is useful here, the other two should be the same but given that they can't be simplified, this is a dead end."
   ]
  },
  {
   "cell_type": "markdown",
   "id": "9a788e04",
   "metadata": {},
   "source": [
    "Read the solution at the back of the book.\n",
    "\n",
    "It mainly relies on the following:\n",
    "\n",
    "$$ n^k+n^j-1 < \\frac{n^{2k}-n^{2j}}{n^k-n^j+\\Delta} < n^k+n^j+1 \\hspace{0.4cm} \\text{ with } \\Delta \\in \\{n^{-n},0,-n^{-n}\\} $$\n",
    "\n",
    "$$ j,k,n\\in \\mathbb{N} \\text{ and } 1 \\leq j\\neq k \\leq n$$\n"
   ]
  },
  {
   "cell_type": "code",
   "execution_count": 436,
   "id": "e61ce5d5",
   "metadata": {},
   "outputs": [
    {
     "name": "stdout",
     "output_type": "stream",
     "text": [
      "True 41.0000000000000 41.9999699931627 43.0000000000000\n",
      "True 221.000000000000 221.999977341762 223.000000000000\n",
      "True 1301.00000000000 1301.99997836715 1303.00000000000\n",
      "True 7781.00000000000 7781.99997853343 7783.00000000000\n",
      "True 41.0000000000000 42.0000300068802 43.0000000000000\n",
      "True 251.000000000000 251.999969993145 253.000000000000\n",
      "True 1331.00000000000 1331.99997734176 1333.00000000000\n",
      "True 7811.00000000000 7811.99997836715 7813.00000000000\n",
      "True 221.000000000000 222.000022658243 223.000000000000\n",
      "True 251.000000000000 252.000030006862 253.000000000000\n",
      "True 1511.00000000000 1511.99996999314 1513.00000000000\n",
      "True 7991.00000000000 7991.99997734176 7993.00000000000\n",
      "True 1301.00000000000 1302.00002163285 1303.00000000000\n",
      "True 1331.00000000000 1332.00002265824 1333.00000000000\n",
      "True 1511.00000000000 1512.00003000686 1513.00000000000\n",
      "True 9071.00000000000 9071.99996999314 9073.00000000000\n",
      "True 7781.00000000000 7782.00002146657 7783.00000000000\n",
      "True 7811.00000000000 7812.00002163285 7813.00000000000\n",
      "True 7991.00000000000 7992.00002265824 7993.00000000000\n",
      "True 9071.00000000000 9072.00003000686 9073.00000000000\n"
     ]
    }
   ],
   "source": [
    "# Numerical verification of said inequality\n",
    "\n",
    "from sympy import *\n",
    "from IPython.display import Math, display\n",
    "\n",
    "i,j,n,k,x=symbols('i j n k x',integer=True)\n",
    "\n",
    "def d3(P):\n",
    "    f = latex(P[0]) + ' < ' + latex(P[1]) + ' < ' + latex(P[2])\n",
    "    # print(f)\n",
    "    display(Math(f))\n",
    "\n",
    "N=n**(2*k)-n**(2*j)\n",
    "D=n**k-n**j+n**(-n)\n",
    "L=n**j+n**k-1\n",
    "R=n**j+n**k+1\n",
    "\n",
    "P=[L,N/D,R]\n",
    "\n",
    "for n_ in range(4,10):\n",
    "    if n_ != 6: continue\n",
    "    for j_ in range(1,n_):\n",
    "        for k_ in range(1,n_):\n",
    "            if j_ != k_:\n",
    "                P0 = P[0].subs({n: n_,j: j_,k: k_}).evalf()\n",
    "                P1 = P[1].subs({n: n_,j: j_,k: k_}).evalf()\n",
    "                P2 = P[2].subs({n: n_,j: j_,k: k_}).evalf()\n",
    "                print((P0<P1 and P1<P2),P0,P1,P2)\n",
    "\n"
   ]
  },
  {
   "cell_type": "code",
   "execution_count": 438,
   "id": "4224f50d",
   "metadata": {},
   "outputs": [
    {
     "data": {
      "text/latex": [
       "$\\displaystyle n^{j} + n^{k} - 1 < \\frac{- n^{2 j} + n^{2 k}}{- n^{j} + n^{k} + n^{- n}} < n^{j} + n^{k} + 1$"
      ],
      "text/plain": [
       "<IPython.core.display.Math object>"
      ]
     },
     "metadata": {},
     "output_type": "display_data"
    },
    {
     "data": {
      "text/latex": [
       "$\\displaystyle -1 < - n^{j} - n^{k} + \\frac{- n^{2 j} + n^{2 k}}{- n^{j} + n^{k} + n^{- n}} < 1$"
      ],
      "text/plain": [
       "<IPython.core.display.Math object>"
      ]
     },
     "metadata": {},
     "output_type": "display_data"
    },
    {
     "data": {
      "text/latex": [
       "$\\displaystyle -1 < \\frac{n^{j} + n^{k}}{n^{j + n} - n^{k + n} - 1} < 1$"
      ],
      "text/plain": [
       "<IPython.core.display.Math object>"
      ]
     },
     "metadata": {},
     "output_type": "display_data"
    }
   ],
   "source": [
    "#failed attempt at proving it step-by-step\n",
    "P=[L,N/D,R]\n",
    "\n",
    "d3(P)\n",
    "P=list(map(lambda _: _ - (n**j+n**k), P))\n",
    "d3(P)\n",
    "P[1] = simplify(P[1])\n",
    "d3(P)\n",
    "#P=list(reversed(list(map(lambda _: _ * (n**(j+n) - n**(k+n) - 1) , P))))\n",
    "#d3(P)\n",
    "\n"
   ]
  },
  {
   "cell_type": "markdown",
   "id": "8e6fe736",
   "metadata": {},
   "source": [
    "**Dead end**\n",
    "\n",
    "\n",
    "Rewrite the initial expression like this:\n",
    "    \n",
    "$$ \n",
    "E=\\frac{a^{2}-b^{2}}{a-b+c}=\\left(a+b\\right)\\left(\\frac{1}{1+\\frac{c}{a-b}}\\right)= \\\\\n",
    "=\\left(a+b\\right)\\left(\\frac{1}{1-\\frac{c}{b-a}}\\right)\\\\\n",
    "\\\\\n",
    "a=n^{k}\\\\\n",
    "b=n^{j}\\\\\n",
    "c=n^{-n}\\\\\n",
    "$$\n",
    "\n",
    "Expand using infinite geometric series:\n",
    "\n",
    "$$\n",
    "E=(a+b)\\left(1+\\left(\\frac{c}{b-a}\\right)^1 + \\left(\\frac{c}{b-a}\\right)^2 + \\left(\\frac{c}{b-a}\\right)^3 + \\cdots \\right)\n",
    "$$"
   ]
  },
  {
   "cell_type": "code",
   "execution_count": 440,
   "id": "e1ec0ee6",
   "metadata": {},
   "outputs": [
    {
     "data": {
      "text/latex": [
       "$\\displaystyle n^{j} + n^{k} - 1 < \\frac{- n^{2 j} + n^{2 k}}{- n^{j} + n^{k} + n^{- n}} < n^{j} + n^{k} + 1$"
      ],
      "text/plain": [
       "<IPython.core.display.Math object>"
      ]
     },
     "metadata": {},
     "output_type": "display_data"
    },
    {
     "data": {
      "text/latex": [
       "$\\displaystyle - n^{2 j} + n^{j} + n^{j} n^{- n} + n^{2 k} - n^{k} + n^{k} n^{- n} - n^{- n} < - n^{2 j} + n^{2 k} < - n^{2 j} - n^{j} + n^{j} n^{- n} + n^{2 k} + n^{k} + n^{k} n^{- n} + n^{- n}$"
      ],
      "text/plain": [
       "<IPython.core.display.Math object>"
      ]
     },
     "metadata": {},
     "output_type": "display_data"
    },
    {
     "data": {
      "text/latex": [
       "$\\displaystyle n^{j} + n^{j} n^{- n} - n^{k} + n^{k} n^{- n} - n^{- n} < 0 < - n^{j} + n^{j} n^{- n} + n^{k} + n^{k} n^{- n} + n^{- n}$"
      ],
      "text/plain": [
       "<IPython.core.display.Math object>"
      ]
     },
     "metadata": {},
     "output_type": "display_data"
    },
    {
     "data": {
      "text/latex": [
       "$\\displaystyle n^{j} - n^{k} - n^{- n} < - n^{j} n^{- n} - n^{k} n^{- n} < - n^{j} + n^{k} + n^{- n}$"
      ],
      "text/plain": [
       "<IPython.core.display.Math object>"
      ]
     },
     "metadata": {},
     "output_type": "display_data"
    },
    {
     "data": {
      "text/latex": [
       "$\\displaystyle n^{j} - n^{k} - n^{- n} < - n^{j - n} - n^{k - n} < - n^{j} + n^{k} + n^{- n}$"
      ],
      "text/plain": [
       "<IPython.core.display.Math object>"
      ]
     },
     "metadata": {},
     "output_type": "display_data"
    },
    {
     "data": {
      "text/latex": [
       "$\\displaystyle -1 < \\frac{n^{j} + n^{k}}{n^{j + n} - n^{k + n} - 1} < 1$"
      ],
      "text/plain": [
       "<IPython.core.display.Math object>"
      ]
     },
     "metadata": {},
     "output_type": "display_data"
    }
   ],
   "source": [
    "# failed attempt using sympy\n",
    "\n",
    "P=[L,N/D,R]\n",
    "d3(P)\n",
    "P=list(map(lambda _: expand(_*D), P))\n",
    "d3(P)\n",
    "P=list(map(lambda _: _ - N , P))\n",
    "d3(P)\n",
    "P=list(map(lambda _: _ - (n**j * n**(-n) + n**k * n**(-n)) , P))\n",
    "d3(P)\n",
    "P=list(map(lambda _: powsimp(_) , P))\n",
    "d3(P)\n",
    "P=list(map(lambda _: simplify(_ / D) , P))\n",
    "d3(P)"
   ]
  },
  {
   "cell_type": "markdown",
   "id": "d507ee06",
   "metadata": {},
   "source": [
    "**Solution** (due to snow from discord):\n",
    "\n",
    "Transcribing their solution from my notebook.\n",
    "\n",
    "Assume that $k>j$ and $n \\geq 2$\n",
    "\n",
    "For the second side:\n",
    "\n",
    "$$\n",
    "\\begin{aligned}\n",
    "& \\frac{ n^{2k} - n^{2j} }{ n^k - n^j - n^{-n}} \\leq n^k + n^j + 1 \\iff n^{2k} - n^{2j} \\leq (n^k - n^j - n^{-n})(n^k + n^j + 1) \\iff \\\\\n",
    "& 0 \\leq (n^k - n^j - n^{-n})(n^k + n^j + 1) - n^{2k} - n^{2j}  \\\\\n",
    "& 0 \\leq n^k-n^j-(n^{j-n}+n^{k-n} + n^{-n}) \\\\\n",
    "& 0 \\leq \\underbrace{ (n^k-n^j) }_{\\geq 2}-\\underbrace{ \\frac{n^j+n^k+1}{n^n} }_{< 2} \\\\\n",
    "& \\\\\n",
    "\\end{aligned}\n",
    "$$\n",
    "\n",
    "Proving the two claims above:\n",
    "\n",
    "$$\n",
    "\\begin{aligned}\n",
    "& n^k-n^j = n^j(n^{k-j}-1)\\geq n^j(n-1) \\geq 2^j (2-1) \\geq 2 \\\\\n",
    "& 1+n^j+n^k \\leq n^j+n^j+n^k = 2n^j+n^k \\leq n^{k-j}n^j + n^k \\leq 2n^k \\\\\n",
    "& \\frac{1+n^j+n^k}{n^n} \\leq \\frac{2n^k}{n^n} = 2 \\cdot \\frac{1}{n^{n-k}} \\leq 2\\\\\n",
    "\\end{aligned}\n",
    "$$\n",
    "\n",
    "\n",
    "Proving the first side:\n",
    "\n",
    "$$\n",
    "\\begin{aligned}\n",
    "& n^k+n^j-1 < \\frac{ n^{2k} - n^{2j} }{ n^k - n^j + n^{-n}} \\\\\n",
    "& 0 \\geq (n^k+n^j-1)(n^k-n^j+n^{-n})-n^{2k}+n^{2j} \\\\\n",
    "& 0 \\geq n^{2k}-n^{j+k}+n^{k-n}+n^{j+k} -n^{2j}+n^{j-n}-n^{k}+n^j-n^{-n}-n^{2k}+n^{2j} \\\\\n",
    "& 0 \\geq -n^k+n^j+(n^{k-n} + n^{j-n} - n^{-n} ) \\\\\n",
    "& 0 \\geq \\underbrace{-(n^k-n^j)}_{\\leq -2} + \\underbrace{\\frac{n^k+n^j-1}{n^n}}_{<2} \\blacksquare \\\\\n",
    "\\end{aligned}\n",
    "$$\n",
    "\n"
   ]
  },
  {
   "cell_type": "code",
   "execution_count": 446,
   "id": "37ba5c52",
   "metadata": {},
   "outputs": [
    {
     "name": "stdout",
     "output_type": "stream",
     "text": [
      "[1, 0, 0, 0, 0]\n",
      "[3, 2, 0, 1, 0]\n",
      "[3, 0, 3, 0, 1]\n",
      "[9, 10, 0, 4, 0]\n",
      "[9, 6, 5, 3, 1]\n",
      "[9, 6, 9, 1, 3]\n",
      "[9, 0, 16, 0, 4]\n",
      "[27, 38, 0, 13, 0]\n",
      "[27, 30, 9, 12, 1]\n",
      "[27, 28, 15, 10, 3]\n",
      "[27, 18, 26, 9, 4]\n",
      "[27, 30, 27, 4, 9]\n",
      "[27, 18, 40, 3, 10]\n",
      "[27, 14, 48, 1, 12]\n",
      "[27, 0, 63, 0, 13]\n",
      "[81, 130, 0, 40, 0]\n",
      "[81, 114, 17, 39, 1]\n",
      "[81, 108, 27, 37, 3]\n",
      "[81, 90, 46, 36, 4]\n"
     ]
    }
   ],
   "source": [
    "# problem 1.20 , recurrence implementation\n",
    "\n",
    "from sympy import *\n",
    "a,y0,y1,b0,b1 = symbols('\\\\alpha \\\\gamma_0 \\\\gamma_1 \\\\beta_0 \\\\beta_1')\n",
    "def h(n):\n",
    "    if n == 1:\n",
    "        return a\n",
    "    elif n % 2 == 0:\n",
    "        n1 = int(n/2)\n",
    "        return 3*h(n1) + y0*n + b0\n",
    "    else:\n",
    "        n1 = int((n-1)/2)\n",
    "        return 3*h(n1) + y1*n + b1\n",
    "\n",
    "N = 20\n",
    "for n in range(1,N):\n",
    "    hn = h(n)\n",
    "    c = list(map(lambda _: hn.coeff(_), [a,y0,y1,b0,b1]))\n",
    "    #display(gn)\n",
    "    print(c)"
   ]
  },
  {
   "cell_type": "markdown",
   "id": "41fadb88",
   "metadata": {},
   "source": [
    "TODO: Review basic inequalities problems\n",
    " \n",
    "Review repertoire method in the book\n",
    "- DONE read it from at least one source\n",
    "- TODO read it from multiple sources\n",
    "- TODO write a summary in the notes here\n",
    " \n",
    "Reading list for repertoire method:\n",
    "- [link1](https://math.stackexchange.com/q/67939) (done)\n",
    "- [link2 (general procedure)](https://math.stackexchange.com/q/1017498) (in-progress)\n",
    "- [link3 (blog)](https://ftclausen.github.io/mathematics/concrete-mathematics/cm-repertoire-method/) (to read)\n",
    "- [link4 (blog)](https://dangkhoasdc.github.io/en/post/2017/12/26/the-repertoire-method/)\n",
    "- [link5 (blog)](https://web.archive.org/web/20210509223555/https://blog.wakatta.jp/blog/2012/01/14/concrete-mathematics-repertoire-method/)\n",
    "- [link6 (blog)](https://flopska.com/the-repertoire-method-and-the-radix-based-solution-to-the-josephus-problem.html)\n",
    "- [Mathematics for the Analysis of Algorithms (by Knuth & Green)](/home/user/books/depo/combinatorics/algorithms/(Progress%20in%20Computer%20Science%20and%20Applied%20Logic)%20Daniel%20H.%20Greene,%20Donald%20E.%20Knuth%20-%20Mathematics%20for%20the%20Analysis%20of%20Algorithms-Birkh%C3%A4user%20Boston%20(1990).pdf) (repertoire method)"
   ]
  },
  {
   "cell_type": "markdown",
   "id": "1a48bd4d",
   "metadata": {},
   "source": [
    "# Chapter 2 - Sums\n",
    "\n",
    "### Iverson brackets and sum identities\n",
    "\n",
    "[Iverson bracket wiki page](https://en.wikipedia.org/wiki/Iverson_bracket#Properties)\n",
    "\n",
    "[Blog post about Iverson bracket](https://ozaner.github.io/iverson-bracket/)\n",
    "\n",
    "Property 1 (Double-counting): \n",
    "\n",
    "$$ [k \\in K] + [k\\in K'] = [k\\in K \\cap K'] + [k\\in K \\cup K'] $$\n",
    "\n",
    "Property 2 (Interchanging order of summation):\n",
    "\n",
    "$$ \\sum_{j} \\sum_{k} a_{j,k} [P(j,k)] = \\sum_{P(j,k)} a_{j,k} = \\sum_{k} \\sum_{j} a_{j,k} [P(j,k)] $$\n",
    "\n",
    "Property 3 (Interchanging summation order **vanilla version** ):\n",
    "\n",
    "$$ \\sum_{j\\in J} \\sum_{k\\in K} a_{j,k} = \\sum_{j\\in J\\\\k\\in K} a_{j,k} = \\sum_{k\\in K} \\sum_{j\\in J} a_{j,k} $$\n",
    "\n",
    "Property 4 (Interchanging summation order **rocky road version** ):\n",
    "\n",
    "$$ \\sum_{j\\in J} \\sum_{k\\in K(j)} a_{j,k} = \\sum_{k\\in K'} \\sum_{j\\in J'(k)} a_{j,k} $$\n",
    "\n",
    "where the following relation exists between $J,K(j),K',J'(k)$ :\n",
    "\n",
    "$$ [j\\in J][k\\in K(j)] = [k\\in K'][j\\in J'(k)] $$\n",
    "\n",
    "Property 5 (application of rocky road):\n",
    "\n",
    "$$ \\boxed{ [1\\leq j \\leq n] [j\\leq k \\leq n] = [1\\leq j \\leq k \\leq n] = [1 \\leq k \\leq n] [1\\leq j \\leq k] } $$\n",
    "\n",
    "and the equivalent double-sum identity:\n",
    "\n",
    "$$ \\sum_{j=1}^{n} \\sum_{k=j}^n a_{j,k} = \\sum_{1\\leq j\\leq k\\leq n} a_{j,k} =\\sum_{k=1}^{n} \\sum_{j=1}^k a_{j,k} $$\n",
    "\n",
    "\n",
    "Property 6 (**General distributive law**):\n",
    "\n",
    "$$ \\sum_{j\\in J \\\\k\\in K} a_j b_k = \\left( \\sum_{j\\in J} a_j \\right)\\left( \\sum_{k\\in K} a_k \\right) $$\n",
    "\n",
    "\n",
    "Sidenote ([symbol table](https://en.wikipedia.org/wiki/Geometric_Shapes_(Unicode_block))):\n",
    "\n",
    "$$\n",
    "\\begin{array}{|c|c|}\n",
    "\\hline\n",
    "\\text{Upper/Lower regions without diagonal} & \\unicode{0x25F9},\\unicode{0x25FA} \\\\\n",
    "\\hline\n",
    "\\text{Upper/Lower triangular regions with diagonal} & \\unicode{0x25E5},\\unicode{0x25E3} \\\\\n",
    "\\hline\n",
    "\\text{Full square} & \\unicode{0x25A0} \\\\\n",
    "\\hline\n",
    "\\text{Square without main diagonal} & \\unicode{0x25A1} \\\\\n",
    "\\hline\n",
    "\\end{array}\n",
    "$$\n",
    "\n",
    "Property 7:\n",
    "\n",
    "$$ [1\\leq j\\leq k\\leq n] + [1\\leq k\\leq j \\leq n] = [1\\leq j,k \\leq n] + [1\\leq j=k \\leq n] $$\n",
    "\n",
    "Interpretation: $\\unicode{0x25E5} + \\unicode{0x25E3} = \\unicode{0x25A0} + diagonal$\n",
    "\n",
    "Property 8:\n",
    "\n",
    "$$ [1\\leq j < k \\leq n] + [1\\leq k < j \\leq n] = [1\\leq j,k\\leq n] - [1\\leq j=k\\leq n] $$\n",
    "\n",
    "Interpretation: $\\unicode{0x25F9} + \\unicode{0x25FA} = \\unicode{0x25A0} - diagonal = \\unicode{0x25A1}$\n",
    "\n",
    "---\n",
    "\n",
    "### Various identities or inequalities\n",
    "\n",
    "$$ \\left(\\sum_{k=1}^n a_k \\right) \\left(\\sum_{k=1}^n b_k \\right) = n \\sum_{k=1}^n a_k b_k - \\sum_{1\\leq j<k \\leq n} (a_k - a_j)(b_k-b_j)$$\n",
    "\n",
    "$$  \\left(\\sum_{k=1}^n a_k \\right) \\left(\\sum_{k=1}^n b_k \\right) \\leq n \\sum_{k=1}^n a_k b_k \\text { if } a_1\\leq a_2 \\leq \\cdots \\leq a_n \\text{ and }  b_1\\leq b_2 \\leq \\cdots \\leq b_n $$\n",
    "\n",
    "$$  \\left(\\sum_{k=1}^n a_k \\right) \\left(\\sum_{k=1}^n b_k \\right) \\geq n \\sum_{k=1}^n a_k b_k \\text { if } a_1\\leq a_2 \\leq \\cdots \\leq a_n \\text{ and }  b_1\\geq b_2 \\geq \\cdots \\geq b_n $$\n",
    "\n"
   ]
  },
  {
   "cell_type": "markdown",
   "id": "7fc7da22",
   "metadata": {},
   "source": [
    "**Problem 2.4**\n",
    "\n",
    "$$[1\\leq i < j < k \\leq 4] = [1 < j < k \\leq 4] [1\\leq i<j] = [1<k\\leq 4][1<j<k][1\\leq i<j]$$\n",
    "\n",
    "$$[1\\leq i < j < k \\leq 4] = [1 < i < j < 4] [j<k\\leq 4] = [1\\leq i < 4][i<j<4][j<k\\leq 4]$$\n",
    "\n",
    "$$\n",
    "\\begin{aligned}\n",
    "\\sum_{1\\leq i < j < k \\leq 4} a_{i,j,k} & = \\\\\n",
    "\\sum_{k=2}^4 \\sum_{j=1}^{k-1} \\sum_{i=1}^{j-1} a_{i,j,k} & = \\\\\n",
    "\\sum_{i=1}^{3} \\sum_{j=i+1}^{3} \\sum_{k=j+1}^4 a_{i,j,k} &  \\\\\n",
    "\\end{aligned} \\\\\n",
    "$$"
   ]
  },
  {
   "cell_type": "code",
   "execution_count": 24,
   "id": "7dbd8353",
   "metadata": {},
   "outputs": [
    {
     "name": "stdout",
     "output_type": "stream",
     "text": [
      "(1, 2, 3)\n",
      "(1, 2, 4)\n",
      "(1, 3, 4)\n",
      "(2, 3, 4)\n",
      "== items: 4\n",
      "(1, 2, 3)\n",
      "(1, 2, 4)\n",
      "(1, 3, 4)\n",
      "(2, 3, 4)\n",
      "== items: 4\n",
      "(1, 2, 3)\n",
      "(1, 2, 4)\n",
      "(1, 3, 4)\n",
      "(2, 3, 4)\n",
      "== items: 4\n"
     ]
    }
   ],
   "source": [
    "N=4\n",
    "P={}\n",
    "c = 0\n",
    "for i in range(1,N+1):\n",
    "    for j in range(1,N+1):\n",
    "        for k in range(1,N+1):\n",
    "            if 1<=i<j<k<=N:\n",
    "                print((i,j,k))\n",
    "                c+=1\n",
    "print(\"== items: {0}\".format(c))\n",
    "c = 0\n",
    "for k in range(2,N+1):\n",
    "    for j in range(2,k):\n",
    "        for i in range(1,j):\n",
    "            print((i,j,k))\n",
    "            c+=1\n",
    "print(\"== items: {0}\".format(c))            \n",
    "c = 0\n",
    "for i in range(1,N):\n",
    "    for j in range(i+1,N):\n",
    "        for k in range(j+1,N+1):\n",
    "            print((i,j,k))\n",
    "            c+=1\n",
    "print(\"== items: {0}\".format(c))"
   ]
  },
  {
   "cell_type": "markdown",
   "id": "01abafad",
   "metadata": {},
   "source": [
    "**Problem 2.6**:\n",
    "\n",
    "$[1\\leq j\\leq k\\leq n] = [1\\leq j\\leq n][j\\leq k \\leq n]$\n",
    "\n",
    "$\n",
    "\\begin{aligned}\n",
    "f(j,n) = & \\sum_{k} [1\\leq j \\leq k \\leq n] = & \\\\\n",
    "         & \\sum_{k} [1\\leq j\\leq n][j\\leq k \\leq n] = & \\\\\n",
    "         & [1\\leq j\\leq n] \\sum_{k} [j\\leq k \\leq n] = & \\\\\n",
    "         & [1\\leq j\\leq n] \\sum_{j=k}^n 1 = & \\\\\n",
    "         & [1\\leq j\\leq n](n-j+1) & \\\\\n",
    "\\end{aligned}\n",
    "$\n",
    "\n",
    "We factor out the term that depends on $j,n$ and evaluate the remaining sum. "
   ]
  },
  {
   "cell_type": "markdown",
   "id": "de587021",
   "metadata": {},
   "source": [
    "Discussed the transition between pages 40 and 41.\n",
    "Asked on discord and on [math.stackexchange](https://math.stackexchange.com/q/4599818/68328)."
   ]
  },
  {
   "cell_type": "code",
   "execution_count": 21,
   "id": "7fb102e5",
   "metadata": {},
   "outputs": [
    {
     "data": {
      "text/latex": [
       "$\\displaystyle \\frac{m \\Gamma\\left(m + x - 1\\right)}{\\Gamma\\left(x\\right)}$"
      ],
      "text/plain": [
       "m*gamma(m + x - 1)/gamma(x)"
      ]
     },
     "metadata": {},
     "output_type": "display_data"
    },
    {
     "data": {
      "text/latex": [
       "$\\displaystyle \\frac{m \\Gamma\\left(m + x - 1\\right)}{\\Gamma\\left(x\\right)}$"
      ],
      "text/plain": [
       "m*gamma(m + x - 1)/gamma(x)"
      ]
     },
     "metadata": {},
     "output_type": "display_data"
    },
    {
     "data": {
      "text/latex": [
       "$\\displaystyle \\frac{m \\left(m + x - 2\\right)!}{\\left(x - 1\\right)!}$"
      ],
      "text/plain": [
       "m*factorial(m + x - 2)/factorial(x - 1)"
      ]
     },
     "metadata": {},
     "output_type": "display_data"
    },
    {
     "data": {
      "text/latex": [
       "$\\displaystyle \\frac{m \\Gamma\\left(m + x - 1\\right)}{\\Gamma\\left(x\\right)}$"
      ],
      "text/plain": [
       "m*gamma(m + x - 1)/gamma(x)"
      ]
     },
     "metadata": {},
     "output_type": "display_data"
    },
    {
     "data": {
      "text/latex": [
       "$\\displaystyle \\frac{m \\Gamma\\left(m + x - 1\\right)}{\\Gamma\\left(x\\right)}$"
      ],
      "text/plain": [
       "m*gamma(m + x - 1)/gamma(x)"
      ]
     },
     "metadata": {},
     "output_type": "display_data"
    }
   ],
   "source": [
    "# problem 2.7 \n",
    "from sympy import *\n",
    "m = symbols('m',integer=True)\n",
    "x = symbols('x')\n",
    "def nabla(f):\n",
    "    return f - f.subs(x,x-1)\n",
    "\n",
    "for i in (rf, ff, factorial, binomial, gamma):\n",
    "    U = nabla(rf(x,m))\n",
    "    display(simplify(U).rewrite(i))"
   ]
  },
  {
   "cell_type": "code",
   "execution_count": null,
   "id": "4697d293",
   "metadata": {},
   "outputs": [],
   "source": [
    "# The rewriting rules in SymPy could use some improvements for rf/ff"
   ]
  },
  {
   "cell_type": "markdown",
   "id": "0e901a4c",
   "metadata": {},
   "source": [
    "**Problem 2.7**\n",
    "\n",
    "$$\n",
    "\\begin{aligned}\n",
    "&\\Delta f(x) = f(x+1)-f(x)\\\\\n",
    "&\\nabla f(x) = f(x)-f(x-1)\\\\\n",
    "&\\nabla f(x) = \\Delta f(x-1)\\\\\n",
    "&\\nabla x^{\\overline{m}} = \\Delta (x-1)^{ \\overline{m} } = x^{\\overline{m}} - (x-1)^{\\overline{m}} = \\\\\n",
    "&\\frac{(x+m-1)!}{(x-1)!} - \\frac{(x+m-2)!}{(x-2)!} = \\\\\n",
    "      & x \\cdot (x+1) \\cdot \\cdots \\cdot (x+m-2) \\cdot (x+m-1) - \\\\\n",
    "(x-1) & x \\cdot (x+1) \\cdot \\cdots \\cdot (x+m-2) = \\\\\n",
    "& x \\cdot (x+1) \\cdot \\cdots \\cdot (x+m-2) ( (x+m-1) - (x-1) ) = \\\\\n",
    "& \\left( x \\cdot (x+1) \\cdot \\cdots \\cdot (x+m-2) \\right) \\cdot m = x^{\\overline{m-1}} \\cdot m\\\\\n",
    "\\end{aligned}\n",
    "$$\n",
    "\n"
   ]
  },
  {
   "cell_type": "markdown",
   "id": "6bde26f1",
   "metadata": {},
   "source": [
    "**Problem 2.8**\n",
    "\n",
    "$$\n",
    "\\begin{aligned}\n",
    "&x^{\\overline{m}}=x\\cdot(x+1)\\cdot \\cdots \\cdot (x+m-1)\\\\\n",
    "&0^{\\overline{m}}=0\\cdot(0+1)\\cdot \\cdots \\cdot (x+m-1)=0, \\text{ for } m\\geq 1\\\\\n",
    "\\end{aligned}\n",
    "$$\n",
    "\n",
    "The same type of reasoning from page 52 can be applied:\n",
    "\n",
    "$$\n",
    "\\begin{aligned}\n",
    "x^{\\overline{m+1}} & = & x\\cdot(x+1)\\cdot \\cdots \\cdot & (x+m-1) \\cdot (x+m) & \\\\\n",
    "x^{\\overline{m}}   & = & x\\cdot(x+1)\\cdot \\cdots \\cdot & (x+m-1) & \\\\\n",
    "\\end{aligned}\n",
    "$$\n",
    "\n",
    "So to go from $x^{\\overline{m+1}} \\to x^{\\overline{m}}$ we multiply by $\\frac{1}{x+m}$\n",
    "\n",
    "$$\n",
    "0^{\\overline{m}} = \\frac{1}{(-1)^m \\cdot (-m)!} \\text{ for } m \\leq 0\n",
    "$$\n"
   ]
  },
  {
   "cell_type": "markdown",
   "id": "0e2c9966",
   "metadata": {},
   "source": [
    "**Problem 2.9**\n",
    "\n",
    "$$\n",
    "\\large\n",
    "\\left.\n",
    "\\begin{array}{l}\n",
    "x^{\\overline{m+n}}   & = & \\frac{(x+m+n-1)!}{(x-1)!}\\\\\n",
    "(x+m)^{\\overline{n}} & = & \\frac{(x+m+n-1)!}{(x+m-1)!}\\\\\n",
    "x^{\\overline{m}}     & = & \\frac{(x+m-1)!}{(x-1)!}\\\\\n",
    "\\end{array}\n",
    "\\right\\} \\implies x^{\\overline{m+n}} = (x+m)^{\\overline{n}} \\cdot x^{\\overline{n}}\\\\\n",
    "\\\\\n",
    "\\text{For } m=-n \\text{ we have }\\\\\n",
    "\\large\n",
    "x^{\\overline{-n+n}} = x^{\\overline{0}} = 1 = (x-n)^{\\overline{n}} \\cdot x^{\\overline{-n}} \\iff\n",
    "x^{\\overline{-n}} = \\frac{1}{(x-n)^{\\overline{n}}} \n",
    "$$\n"
   ]
  },
  {
   "cell_type": "code",
   "execution_count": 6,
   "id": "6b7ba361",
   "metadata": {},
   "outputs": [
    {
     "name": "stdout",
     "output_type": "stream",
     "text": [
      "[-10, -9, -8, -7, -6, -5, -4, -3, -2, -1, 0, 1, 2, 3, 4, 5, 6, 7, 8, 9, 10]\n",
      "[-7, -12, -5, -10, -3, -8, -1, -6, 1, -4, 3, -2, 5, 0, 7, 2, 9, 4, 11, 6, 13]\n"
     ]
    }
   ],
   "source": [
    "# problem 2.12\n",
    "n=10\n",
    "A=list(range(-n,n+1))\n",
    "c=3\n",
    "B=list(map(lambda k: k+(-1)**(k%2) * c,A))\n",
    "print(A)\n",
    "print(B)\n"
   ]
  },
  {
   "cell_type": "code",
   "execution_count": null,
   "id": "41ef9080",
   "metadata": {},
   "outputs": [],
   "source": [
    "####### \\tiny{ }, \\scriptsize{ }, \\small{ }, \\normal{ }, \\large{ }, \\Large{ }, \\LARGE{ }, \\huge{ }, \\Huge{ }\n"
   ]
  },
  {
   "cell_type": "markdown",
   "id": "5653bfcb",
   "metadata": {},
   "source": [
    "**Problem 2.12**\n",
    "\n",
    "\n",
    "$\n",
    "p(k) = k + (-1)^k \\cdot c\n",
    "\\begin{cases}\n",
    "k+c& k \\equiv 0 (mod\\ 2)  \\\\\n",
    "k-c& k \\equiv 1 (mod\\ 2)& \\\\\n",
    "\\end{cases}\n",
    "$\n",
    "\n",
    "Because $p(k)$ is a permutation it's supposed to be a bijection, so at least injective.\n",
    "\n",
    "Casework on parity of $a,b$ to disprove injectivity.\n",
    "\n",
    "Assume $a,b\\in \\mathbb{Z} \\text{ with } a\\neq b$\n",
    "\n",
    "$\n",
    "\\begin{array}{|l|l|l|}\n",
    "\\hline\n",
    "a (mod\\ 2) & b (mod\\ 2) & p(a)=p(b) \\\\\n",
    "\\hline\n",
    "1 & 1 & a-c=b-c\\implies a=b \\bot \\\\\n",
    "\\hline\n",
    "0 & 0 & a+c=b+c\\implies a=b \\bot \\\\\n",
    "\\hline\n",
    "1 & 0 & a-b=2c \\implies 1\\equiv 0 (mod\\ 2) \\bot \\\\\n",
    "\\hline\n",
    "0 & 1 & a-b=-2c \\implies 1\\equiv 0 (mod\\ 2) \\bot \\\\\n",
    "\\hline\n",
    "\\end{array}\n",
    "$"
   ]
  },
  {
   "cell_type": "markdown",
   "id": "a952c2c4",
   "metadata": {},
   "source": [
    "**Problem 2.13**\n",
    "\n",
    "$$\n",
    "\\require{cancel}\n",
    "\\newcommand{\\floor}[1]{\\left \\lfloor #1 \\right \\rfloor}\n",
    "\\newcommand{\\ceil}[1]{\\left \\lceil #1 \\right \\rceil}\n",
    "\\newcommand{\\ndiv}[1][]{ \\floor{ \\frac{n}{2} } }\n",
    "\\newcommand{\\na}[1][]{ (-1)^n }\n",
    "\\newcommand{\\nb}[1][]{ (-1)^{n-1} }\n",
    "\\newcommand{\\nc}[1][]{ \\bbox[yellow]{\\unicode{0x25EF}} }\n",
    "\\newcommand{\\nd}[1][]{ \\bbox[orange]{\\unicode{0x25EF}} }\n",
    "$$\n",
    "\n",
    "Trying to apply the repertoire method (page 44) according to the solution:\n",
    "\n",
    "$$\n",
    "\\begin{align}\n",
    "& R_0 = \\alpha \\tag{1} \\\\\n",
    "& R_n = R_{n-1} + \\na (n^0 \\beta + n^1 \\gamma + n^2\\delta) \\tag{2} \\\\\n",
    "& R_n = A(n)\\alpha + B(n)\\beta + C(n)\\gamma + D(n) \\delta \\tag{3} \\\\\n",
    "\\end{align}\n",
    "$$\n",
    "\n",
    "With (1) being the initial condition, (2) the recurrence relation and (3) the solution in general form.\n",
    "\n",
    "If we unroll (2) we get:\n",
    "\n",
    "$$\n",
    "R_n = \\alpha + \\left( \\sum_{k=0}^n (-1)^k n^0 \\right) \\beta + \\left( \\sum_{k=0}^n (-1)^k n^1 \\right) \\gamma + \\left( \\sum_{k=0}^n (-1)^k n^2 \\right) \\delta \\tag{4}\n",
    "$$\n",
    "\n",
    "By (3) and (4) we have:\n",
    "\n",
    "$$\n",
    "\\begin{align}\n",
    "& A(n) = \\alpha \\\\\n",
    "& B(n) = \\left( \\sum_{k=1}^n (-1)^k n^0 \\right) \\\\\n",
    "& C(n) = \\left( \\sum_{k=1}^n (-1)^k n^1 \\right) \\\\\n",
    "& D(n) = \\left( \\sum_{k=1}^n (-1)^k n^2 \\right) \\\\\n",
    "\\end{align}\n",
    "$$\n",
    "\n",
    "It's $D(n)$ that the problem is asking for.\n",
    "\n",
    "The repertoire will be the following set of functions: $\\{1,\\na,\\na n,\\na n^2\\}$.\n",
    "\n",
    "Setting $R_n=1$ $ \\implies \\alpha=1,\\beta=\\gamma=\\delta=0 \\implies \\boxed{A(n) = 1}$\n",
    "\n",
    "Setting $R_n= \\na \\implies$ the following:\n",
    "\n",
    "$\n",
    "\\begin{align}\n",
    "& \\na = \\nb + \\na (\\beta + n\\gamma + n^2\\delta) \\iff \\\\\n",
    "& 1 = -1 + (\\beta + n\\gamma + n^2 \\delta) \\iff \\\\\n",
    "& 2 = \\beta + n\\gamma + n^2 \\delta \\iff \\\\\n",
    "&\\\\\n",
    "&\\\\\n",
    "&n=0 \\implies \\alpha=1,\\beta=2\\\\\n",
    "&n=1 \\implies \\beta + \\gamma + \\delta = 2 \\implies \\gamma+\\delta=0\\\\\n",
    "&n=2 \\implies \\beta + 2\\gamma + 4\\delta = 2 \\implies 2 + 2\\delta=2 \\implies \\delta = 0,\\gamma=0\\\\\n",
    "&(\\alpha,\\beta,\\gamma,\\delta)=(1,2,0,0) \\overset{\\mbox{ (3) }}{\\implies} \\na = 1+2B(n) \\implies \\boxed{B(n)=\\frac{\\na - 1}{2}}\n",
    "\\end{align}\n",
    "$\n",
    "\n",
    "Setting $R_n= \\na n $ leads to\n",
    "\n",
    "$\n",
    "\\begin{align}\n",
    "& \\na n = \\nb (n-1) + \\na (\\beta + n\\gamma + n^2\\delta) \\\\\n",
    "& n = -(n-1) + (\\beta + n\\gamma + n^2 \\delta) \\\\ \n",
    "& 2n-1 = \\beta + n\\gamma + n^2 \\delta \\\\\n",
    "& n=0 \\implies -1 = \\beta \\\\\n",
    "& n=1 \\implies 1 = \\beta + \\gamma + \\delta \\implies \\gamma + \\delta = 2\\\\\n",
    "& n=2 \\implies 3 = \\beta + 2\\gamma + 4\\delta \\implies \\delta = 0,\\gamma=2\\\\\n",
    "& (\\alpha,\\beta,\\gamma,\\delta)=(0,-1,+2,0) \\overset{\\mbox{ (3) }}{\\implies} \\na = -B(n) + 2C(n) \\implies \\boxed{C(n) = \\frac{\\na + B(n)}{2}}\n",
    "\\end{align}\n",
    "$\n",
    "\n",
    "Setting $R_n = \\na n^2 $ leads to\n",
    "\n",
    "$\n",
    "\\begin{align}\n",
    "& \\na n^2 = \\nb (n-1)^2 + \\na (\\beta + n\\gamma + n^2\\delta) \\\\\n",
    "& n^2 = -(n-1)^2 + \\beta + n\\gamma + n^2 \\delta \\\\\n",
    "& 2n^2-2n+1=\\beta+n\\gamma+n^2\\delta\\\\\n",
    "& n=0 \\implies 1 = \\beta\\\\\n",
    "& n=1 \\implies 1 = \\beta + \\gamma + \\delta \\implies \\gamma+\\delta=0\\\\\n",
    "& n=2 \\implies 5 = 1 + 2\\delta \\implies \\delta = 2,\\gamma=-2\\\\\n",
    "& (\\alpha,\\beta,\\gamma,\\delta)=(0,1,-2,2) \\overset{\\mbox{ (3) }}{\\implies} \\na n^2 = B(n)-2C(n)+2D(n) \\implies\\\\\n",
    "& \\boxed{ D(n) = \\na\\frac{n^2+n}{2}} \\\\\n",
    "\\end{align}\n",
    "$\n"
   ]
  },
  {
   "cell_type": "markdown",
   "id": "284379a0",
   "metadata": {},
   "source": [
    "**Proof #2**\n",
    "\n",
    "This problem asks to compute a closed-form for the following sum:\n",
    "\n",
    "$$\n",
    "\\sum_{k=0}^n (-1)^k k^2\n",
    "$$\n",
    "\n",
    "For $n=2t$ we have:\n",
    "\n",
    "$$\n",
    "S_n=S_{2t}=\\sum_{k=0}^n (-1)^k k^2 = \\sum_{k=0}^{\\bbox[orange]{t}} (2k)^2 - \\sum_{k=0}^{\\bbox[yellow]{t-1} } (2k+1)^2 = \\\\\n",
    "n^2 + \\sum_{k=0}^{t-1} \\bcancel{(2k)^2} - \\sum_{k=0}^{t-1} (\\bcancel{(2k)^2} + 4k + 1) = \\\\\n",
    "n^2 - 4 \\sum_{k=0}^{t-1} k - \\sum_{k=0}^{t-1} 1 = n^2 - 4 \\frac{t(t-1)}{2} - t = n^2 - 2t(t-1) - t = \\\\\n",
    "n^2 - n\\left(\\frac{n}{2} - 1\\right) - \\frac{n}{2} = \\boxed{ \\frac{n^2+n}{2} }\n",
    "$$\n",
    "\n",
    "The $\\bbox[yellow]{t-1}$ bound above is a bit counter-intuitive, probably best illustrated through an example, $n=6$ :\n",
    "\n",
    "$$\n",
    "\\begin{array}{|c|c|c|c|c|}\n",
    "\\hline\n",
    "1 & 2 & 3 & 4 & 5 & 6 \\\\\n",
    "\\hline\n",
    "\\nc &\\nd & \\nc &\\nd & \\nc & \\nd\\\\\n",
    "\\hline\n",
    "\\end{array}\n",
    "$$\n",
    "\n",
    "For the other case, $n=2t+1$\n",
    "\n",
    "$$\n",
    "S_{2t+1} = S_{2t} - (2t+1)^2 = \\frac{(2t)^2 + 2t}{2} - (2t+1)^2 = -\\frac{4t^2+6t+2}{2} = \\boxed{ -\\frac{n^2+n}{2} }\n",
    "$$\n",
    "\n",
    "We conclude that in general $\\large S_n=(-1)^n \\frac{n^2+n}{2}$."
   ]
  },
  {
   "cell_type": "markdown",
   "id": "4339d334",
   "metadata": {},
   "source": [
    "**Problem 2.14**\n",
    "\n",
    "Using the property 2.31 for the Iverson bracket (aka property 5 in the above)\n",
    "\n",
    "$$\n",
    "\\begin{aligned}\n",
    "& \\sum_{k=1}^n k 2^k = \\sum_{k=1}^n \\sum_{j=1}^k 2^k = \\\\\n",
    "& \\sum_{1\\leq j\\leq k\\leq n} 2^k = \\sum_{j=1}^n \\sum_{k=j}^k 2^k = \\\\\n",
    "& \\sum_{j=1}^n \\left[(2^1+\\cdots + 2^n) - (2^1+\\cdots + 2^{j-1}) \\right] = \\\\\n",
    "& \\sum_{j=1}^n \\left[ (2^{n+1}-2) - (2^j - 2) \\right] = \\\\\n",
    "& \\sum_{j=1}^n (2^{n+1} - 2^j) = n\\cdot 2^{n+1} - (2^{j+1}-2) = (n-1)2^{n+1} + 2.\n",
    "\\end{aligned}\n",
    "$$"
   ]
  },
  {
   "cell_type": "code",
   "execution_count": 85,
   "id": "b8ffeea8",
   "metadata": {},
   "outputs": [
    {
     "data": {
      "text/latex": [
       "$\\displaystyle \\frac{n^{4}}{4} + \\frac{n^{3}}{2} + \\frac{n^{2}}{4}$"
      ],
      "text/plain": [
       "n**4/4 + n**3/2 + n**2/4"
      ]
     },
     "metadata": {},
     "output_type": "display_data"
    },
    {
     "data": {
      "text/latex": [
       "$\\displaystyle \\frac{n^{4}}{4} + \\frac{n^{3}}{2} + \\frac{n^{2}}{4}$"
      ],
      "text/plain": [
       "n**4/4 + n**3/2 + n**2/4"
      ]
     },
     "metadata": {},
     "output_type": "display_data"
    }
   ],
   "source": [
    "# problem 2.15 : verification\n",
    "\n",
    "Cn = n*(n+1)/2\n",
    "Bn = n*(n+1)*(2*n+1)/6\n",
    "An = Cn**2\n",
    "\n",
    "R = Rational\n",
    "\n",
    "V = R(3,4) * (n*Bn + R(1,2)*Bn - R(1,6)*Cn )\n",
    "\n",
    "display(V.expand())\n",
    "display(An.expand())\n"
   ]
  },
  {
   "cell_type": "markdown",
   "id": "7a79aeff",
   "metadata": {},
   "source": [
    "**Problem 2.14**\n",
    "\n",
    "**Proof 1**\n",
    "\n",
    "Using rocky-road interchange (2.32 in the book) , then the closed-form for sum of squares (which was determined previously). In short, reducing $A_n$ to an expression in $B_n,C_n$.\n",
    "\n",
    "$$\n",
    "\\begin{align}\n",
    "& \\text{Let } A_n=\\sum k^3 , B_n=\\sum k^2 , C_n = \\sum k\\\\\n",
    "& \\\\\n",
    "& A_n = \\sum_{k=1}^n k^3 = \\sum_{1\\leq j\\leq k\\leq n} k^2 = \\\\\n",
    "& \\sum_{1\\leq j\\leq n} \\sum_{j\\leq k\\leq n} k^2 = \\\\\n",
    "& \\sum_{1\\leq j\\leq n} (B_n - B_{j-1}) = n B_n - \\sum_{1\\leq j \\leq n} B_{j-1} = \\\\\n",
    "& n B_n - \\sum_{j=1}^{n} B_{j-1} = n B_n - \\sum_{j=1}^{n} \\frac{j(j-1)(2j-1)}{6} = \\\\\n",
    "& n B_n - \\frac{1}{6} (2 \\sum_{j=1}^{n} j^3 - 3\\sum_{j=1}^{n} k^2 + \\sum_{j=1}^{n} j) = \\\\\n",
    "& n B_n - \\frac{1}{6} (2 A_{n} - 3 B_{n} + C_{n}) \\\\\n",
    "& \\\\\n",
    "& A_n = \\frac{3}{4} \\left( n B_n + \\frac{1}{2} B_{n} - \\frac{1}{6} C_{n}) \\right) \\\\\n",
    "& A_n = \\left(\\frac{n(n+1)}{2}\\right)^2\\\\\n",
    "\\end{align}\n",
    "$$\n"
   ]
  },
  {
   "cell_type": "markdown",
   "id": "1c4b05be",
   "metadata": {},
   "source": [
    "**Proof 2**:\n",
    "\n",
    "$$\n",
    "\\begin{align}\n",
    "& A_n + B_n = \\sum k^3 + \\sum k^2 = \\sum k^2 (k+1) = \\\\\n",
    "& \\sum k \\cdot k(k+1) \\overset{\\mbox{ (hint) }}{=} 2 \\sum k \\cdot \\sum j \\overset{\\mbox{ (2.28) }}{=} \\\\\n",
    "& 2\\cdot \\sum_{1\\leq j\\leq k\\leq n} j\\cdot k \\overset{\\mbox{ (2.33) }}{=} \\sum k^2 + \\left( \\sum k \\right)^2 = \\\\\n",
    "& \\\\\n",
    "& A_n + B_n = B_n + \\left( \\sum k \\right)^2 \\\\\n",
    "& A_n = \\left( \\sum k \\right)^2 \\\\\n",
    "\\end{align}\n",
    "$$"
   ]
  },
  {
   "cell_type": "markdown",
   "id": "2b0730f4",
   "metadata": {},
   "source": [
    "**Problem 2.16**: Follows by applying (2.52) with exponent $m+n$ and $n+m$ and dividing both sides by $(x-m)^{\\underline{n}} \\cdot (x-n)^{\\underline{m}} $"
   ]
  },
  {
   "cell_type": "markdown",
   "id": "f19c2b03",
   "metadata": {},
   "source": [
    "**Problem 2.18**\n",
    "\n",
    "$$\n",
    "\\sum_{k\\in F} |a_k| = \\sum_{k\\in F} |Re(a_k) + Im(a_k)| \\leq \\sum_{k\\in F} (|Re(a_k)| + |Im(a_k)|) \\leq B_{re} + B_{im}\n",
    "$$"
   ]
  },
  {
   "cell_type": "markdown",
   "id": "dd779c1e",
   "metadata": {},
   "source": [
    "**Problem 2.20**\n",
    "\n",
    "$$\n",
    "\\begin{align}\n",
    "& S_n = \\sum_{k=0} k H_k \\\\\n",
    "& S_n + (n+1) H_{n+1} = \\sum_{k=0}^{n+1} k H_k = \\sum_{k=0}^{n} (k+1) H_{k+1} = \\\\\n",
    "& t \\\\\n",
    "\\end{align}\n",
    "$$\n",
    "\n"
   ]
  }
 ],
 "metadata": {
  "kernelspec": {
   "display_name": "Python 3 (ipykernel)",
   "language": "python",
   "name": "python3"
  },
  "language_info": {
   "codemirror_mode": {
    "name": "ipython",
    "version": 3
   },
   "file_extension": ".py",
   "mimetype": "text/x-python",
   "name": "python",
   "nbconvert_exporter": "python",
   "pygments_lexer": "ipython3",
   "version": "3.9.2"
  }
 },
 "nbformat": 4,
 "nbformat_minor": 5
}
